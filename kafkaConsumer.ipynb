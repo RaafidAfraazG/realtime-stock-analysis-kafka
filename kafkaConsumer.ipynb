{
  "cells": [
    {
      "cell_type": "code",
      "execution_count": null,
      "metadata": {
        "id": "ECfC9-8fkoI9"
      },
      "outputs": [],
      "source": [
        "!pip install kafka-python s3fs boto3"
      ]
    },
    {
      "cell_type": "code",
      "execution_count": null,
      "metadata": {
        "id": "b0kxtetHpAXU"
      },
      "outputs": [],
      "source": [
        "import os\n",
        "import json\n",
        "from kafka import KafkaConsumer\n",
        "from json import loads, dumps\n",
        "from s3fs import S3FileSystem\n",
        "import boto3"
      ]
    },
    {
      "cell_type": "code",
      "execution_count": null,
      "metadata": {
        "id": "LUTFwAGLlcTw"
      },
      "outputs": [],
      "source": [
        "AWS_ACCESS_KEY = os.getenv(\"AWS_ACCESS_KEY_ID\")\n",
        "AWS_SECRET_KEY = os.getenv(\"AWS_SECRET_ACCESS_KEY\")\n",
        "AWS_REGION = os.getenv(\"AWS_DEFAULT_REGION\", \"ap-south-1\")"
      ]
    },
    {
      "cell_type": "code",
      "execution_count": null,
      "metadata": {
        "id": "D5oPL8AqqReg"
      },
      "outputs": [],
      "source": [
        "s3 = S3FileSystem(\n",
        "    key=AWS_ACCESS_KEY,\n",
        "    secret=AWS_SECRET_KEY,\n",
        "    client_kwargs={'region_name': AWS_REGION}\n",
        ")"
      ]
    },
    {
      "cell_type": "code",
      "execution_count": null,
      "metadata": {
        "id": "Y05R0Y77Jt3k"
      },
      "outputs": [],
      "source": [
        "consumer = KafkaConsumer(\n",
        "    'demo_test',\n",
        "    bootstrap_servers=['13.233.157.88:9092'],\n",
        "    value_deserializer=lambda x: loads(x.decode('utf-8'))\n",
        ")"
      ]
    },
    {
      "cell_type": "code",
      "execution_count": null,
      "metadata": {
        "colab": {
          "background_save": true
        },
        "id": "wOyVAhBRi4dC"
      },
      "outputs": [],
      "source": [
        "for count, message in enumerate(consumer):\n",
        "    try:\n",
        "        s3_path = f\"s3://your-bucket-name/stock_market_{count}.json\"\n",
        "        with s3.open(s3_path, 'w') as file:\n",
        "            json.dump(message.value, file)\n",
        "        print(f\"Successfully wrote {s3_path}\")\n",
        "    except Exception as e:\n",
        "        print(f\"Error writing to S3: {str(e)}\")"
      ]
    },
    {
      "cell_type": "code",
      "execution_count": null,
      "metadata": {
        "id": "HLn8mHZasyI8"
      },
      "outputs": [],
      "source": [
        "for message in consumer:\n",
        "    try:\n",
        "        data = json.loads(message.value)\n",
        "        df_received = pd.DataFrame(data)\n",
        "        print(df_received)\n",
        "    except json.JSONDecodeError as e:\n",
        "        print(f\"JSON Decode Error: {e}\")\n",
        "    except Exception as e:\n",
        "        print(f\"Error: {e}\")\n",
        "    break"
      ]
    }
  ],
  "metadata": {
    "colab": {
      "provenance": []
    },
    "kernelspec": {
      "display_name": "Python 3",
      "language": "python",
      "name": "python3"
    },
    "language_info": {
      "name": "python",
      "version": "3.10.10"
    },
    "vscode": {
      "interpreter": {
        "hash": "2a8dfe095fce2b5e88c64a2c3ee084c8e0e0d70b23e7b95b1cfb538be294c5c8"
      }
    }
  },
  "nbformat": 4,
  "nbformat_minor": 0
}
